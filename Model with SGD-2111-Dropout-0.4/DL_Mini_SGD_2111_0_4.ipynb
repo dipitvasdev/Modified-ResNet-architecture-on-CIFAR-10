{
  "cells": [
    {
      "cell_type": "markdown",
      "source": [
        "## Importing Libraries"
      ],
      "metadata": {
        "id": "ultjSk3B4Hnb"
      }
    },
    {
      "cell_type": "code",
      "execution_count": null,
      "metadata": {
        "id": "kFvu7UuHM-c_"
      },
      "outputs": [],
      "source": [
        "import torch\n",
        "import torch.nn as nn\n",
        "import torch.optim as optim\n",
        "import torch.nn.functional as F\n",
        "import torch.backends.cudnn as cudnn\n",
        "\n",
        "import torchvision\n",
        "import torchvision.transforms as transforms\n",
        "from torchsummary import summary\n",
        "import os\n",
        "\n",
        "import numpy as np\n",
        "\n",
        "import matplotlib.pyplot as plt\n",
        "%matplotlib inline\n",
        "\n",
        "from tqdm import tqdm\n",
        "\n",
        "import time\n",
        "from sklearn.metrics import confusion_matrix\n",
        "from sklearn.metrics import ConfusionMatrixDisplay\n"
      ]
    },
    {
      "cell_type": "code",
      "execution_count": null,
      "metadata": {
        "id": "dEwHJtV2NFY-"
      },
      "outputs": [],
      "source": [
        "\n",
        "device = 'cuda' if torch.cuda.is_available() else 'cpu'"
      ]
    },
    {
      "cell_type": "markdown",
      "source": [
        "## Transform the Data"
      ],
      "metadata": {
        "id": "f9IEKYC84LgX"
      }
    },
    {
      "cell_type": "code",
      "execution_count": null,
      "metadata": {
        "id": "PgGnNtZrNH9y"
      },
      "outputs": [],
      "source": [
        "# Data augmentation and normalization for training\n",
        "# Just normalization for validation\n",
        "\n",
        "transform_train = transforms.Compose([\n",
        "    transforms.RandomCrop(32, padding=4),\n",
        "    transforms.RandomHorizontalFlip(),\n",
        "    transforms.ToTensor(),\n",
        "    transforms.Normalize((0.4914, 0.4822, 0.4465), (0.2023, 0.1994, 0.2010)),\n",
        "])\n",
        "\n",
        "transform_test = transforms.Compose([\n",
        "    transforms.ToTensor(),\n",
        "    transforms.Normalize((0.4914, 0.4822, 0.4465), (0.2023, 0.1994, 0.2010)),\n",
        "])"
      ]
    },
    {
      "cell_type": "markdown",
      "source": [
        "## Load the Data"
      ],
      "metadata": {
        "id": "RXOBpv4a4RNf"
      }
    },
    {
      "cell_type": "code",
      "execution_count": null,
      "metadata": {
        "colab": {
          "base_uri": "https://localhost:8080/"
        },
        "id": "SEM2LJRYNIpT",
        "outputId": "7c234e3c-6c4f-4b8c-e792-4448c39ea61b"
      },
      "outputs": [
        {
          "output_type": "stream",
          "name": "stdout",
          "text": [
            "Files already downloaded and verified\n",
            "Files already downloaded and verified\n"
          ]
        }
      ],
      "source": [
        "# Load CIFAR 10 dataset with training and testing Components\n",
        "trainset = torchvision.datasets.CIFAR10(\n",
        "    root='./data', train=True, download=True, transform=transform_train)\n",
        "trainloader = torch.utils.data.DataLoader(\n",
        "    trainset, batch_size=128, shuffle=True, num_workers=2)\n",
        "\n",
        "testset = torchvision.datasets.CIFAR10(\n",
        "    root='./data', train=False, download=True, transform=transform_test)\n",
        "testloader = torch.utils.data.DataLoader(\n",
        "    testset, batch_size=100, shuffle=False, num_workers=2)\n",
        "\n",
        "classes = ('plane', 'car', 'bird', 'cat', 'deer',\n",
        "           'dog', 'frog', 'horse', 'ship', 'truck')"
      ]
    },
    {
      "cell_type": "markdown",
      "source": [
        "## Visualize a few images"
      ],
      "metadata": {
        "id": "6n19rHCO2SP4"
      }
    },
    {
      "cell_type": "code",
      "source": [
        "import matplotlib.pyplot as plt\n",
        "import numpy as np\n",
        "\n",
        "\n",
        "batch_size = 4\n",
        "\n",
        "# functions to show an image\n",
        "\n",
        "\n",
        "def imshow(img):\n",
        "    img = img / 2 + 0.5     # unnormalize\n",
        "    npimg = img.numpy()\n",
        "    plt.imshow(np.transpose(npimg, (1, 2, 0)))\n",
        "    plt.show()\n",
        "\n",
        "\n",
        "# get some random training images\n",
        "dataiter = iter(trainloader)\n",
        "images, labels = next(dataiter)\n",
        "\n",
        "# show images\n",
        "imshow(torchvision.utils.make_grid(images[:4]))"
      ],
      "metadata": {
        "id": "osGtnYpq2UWP",
        "outputId": "eae76ead-3557-468f-9a28-b06fb55aeed3",
        "colab": {
          "base_uri": "https://localhost:8080/",
          "height": 231
        }
      },
      "execution_count": null,
      "outputs": [
        {
          "output_type": "stream",
          "name": "stderr",
          "text": [
            "WARNING:matplotlib.image:Clipping input data to the valid range for imshow with RGB data ([0..1] for floats or [0..255] for integers).\n"
          ]
        },
        {
          "output_type": "display_data",
          "data": {
            "text/plain": [
              "<Figure size 640x480 with 1 Axes>"
            ],
            "image/png": "[encoded data removed]"
          },
          "metadata": {}
        }
      ]
    },
    {
      "cell_type": "markdown",
      "source": [
        "## Define ResNet Architecture\n",
        "\n",
        "We have modified the architecture to reduce blocks in layers. The following modifications were made to ResNet 18 architecture found at https://github.com/kuangliu/pytorch-cifar. \n",
        "\n",
        "- Reducing blocks from 2 to 1 in layer 2,3,4 \n",
        "- Dropout of 0.4 added \n",
        "- SGD Optimizer "
      ],
      "metadata": {
        "id": "dzvRQZXJ3qP_"
      }
    },
    {
      "cell_type": "code",
      "execution_count": null,
      "metadata": {
        "id": "BzqI3EA_Mn4o"
      },
      "outputs": [],
      "source": [
        "'''ResNet in PyTorch.\n",
        "For Pre-activation ResNet, see 'preact_resnet.py'.\n",
        "Reference:\n",
        "[1] Kaiming He, Xiangyu Zhang, Shaoqing Ren, Jian Sun\n",
        "    Deep Residual Learning for Image Recognition. arXiv:1512.03385\n",
        "'''\n",
        "import torch\n",
        "import torch.nn as nn\n",
        "import torch.nn.functional as F\n",
        "\n",
        "\n",
        "class BasicBlock(nn.Module):\n",
        "    expansion = 1\n",
        "\n",
        "    def __init__(self, in_planes, planes, stride=1):\n",
        "        super(BasicBlock, self).__init__()\n",
        "        self.conv1 = nn.Conv2d(\n",
        "            in_planes, planes, kernel_size=3, stride=stride, padding=1, bias=False)\n",
        "        self.bn1 = nn.BatchNorm2d(planes)\n",
        "        self.conv2 = nn.Conv2d(planes, planes, kernel_size=3,\n",
        "                               stride=1, padding=1, bias=False)\n",
        "        self.bn2 = nn.BatchNorm2d(planes)\n",
        "\n",
        "        self.shortcut = nn.Sequential()\n",
        "        if stride != 1 or in_planes != self.expansion*planes:\n",
        "            self.shortcut = nn.Sequential(\n",
        "                nn.Conv2d(in_planes, self.expansion*planes,\n",
        "                          kernel_size=1, stride=stride, bias=False),\n",
        "                nn.BatchNorm2d(self.expansion*planes)\n",
        "            )\n",
        "\n",
        "    def forward(self, x):\n",
        "        out = F.relu(self.bn1(self.conv1(x)))\n",
        "        out = self.bn2(self.conv2(out))\n",
        "        out += self.shortcut(x)\n",
        "        out = F.relu(out)\n",
        "        return out\n",
        "\n",
        "\n",
        "class Bottleneck(nn.Module):\n",
        "    expansion = 4\n",
        "\n",
        "    def __init__(self, in_planes, planes, stride=1):\n",
        "        super(Bottleneck, self).__init__()\n",
        "        self.conv1 = nn.Conv2d(in_planes, planes, kernel_size=1, bias=False)\n",
        "        self.bn1 = nn.BatchNorm2d(planes)\n",
        "        self.conv2 = nn.Conv2d(planes, planes, kernel_size=3,\n",
        "                               stride=stride, padding=1, bias=False)\n",
        "        self.bn2 = nn.BatchNorm2d(planes)\n",
        "        self.conv3 = nn.Conv2d(planes, self.expansion *\n",
        "                               planes, kernel_size=1, bias=False)\n",
        "        self.bn3 = nn.BatchNorm2d(self.expansion*planes)\n",
        "        self.shortcut = nn.Sequential()\n",
        "        if stride != 1 or in_planes != self.expansion*planes:\n",
        "            self.shortcut = nn.Sequential(\n",
        "                nn.Conv2d(in_planes, self.expansion*planes,\n",
        "                          kernel_size=1, stride=stride, bias=False),\n",
        "                nn.BatchNorm2d(self.expansion*planes)\n",
        "            )\n",
        "\n",
        "    def forward(self, x):\n",
        "        out = F.relu(self.bn1(self.conv1(x)))\n",
        "        out = F.relu(self.bn2(self.conv2(out)))\n",
        "        out = self.bn3(self.conv3(out))\n",
        "        out += self.shortcut(x)\n",
        "        out = F.relu(out)\n",
        "        return out\n",
        "\n",
        "\n",
        "class ResNet(nn.Module):\n",
        "    def __init__(self, block, num_blocks, num_classes=10):\n",
        "        super(ResNet, self).__init__()\n",
        "        self.in_planes = 64\n",
        "\n",
        "        self.conv1 = nn.Conv2d(3, 64, kernel_size=3,\n",
        "                               stride=1, padding=1, bias=False)\n",
        "        self.bn1 = nn.BatchNorm2d(64)\n",
        "        self.layer1 = self._make_layer(block, 64, num_blocks[0], stride=1)\n",
        "        self.layer2 = self._make_layer(block, 128, num_blocks[1], stride=2)\n",
        "        self.layer3 = self._make_layer(block, 256, num_blocks[2], stride=2)\n",
        "        self.layer4 = self._make_layer(block, 512, num_blocks[3], stride=2)\n",
        "        self.dropout = nn.Dropout(0.4)\n",
        "        self.linear = nn.Linear(512*block.expansion, num_classes)\n",
        "\n",
        "    def _make_layer(self, block, planes, num_blocks, stride):\n",
        "        strides = [stride] + [1]*(num_blocks-1)\n",
        "        layers = []\n",
        "        for stride in strides:\n",
        "            layers.append(block(self.in_planes, planes, stride))\n",
        "            self.in_planes = planes * block.expansion\n",
        "        return nn.Sequential(*layers)\n",
        "\n",
        "    def forward(self, x):\n",
        "        out = F.relu(self.bn1(self.conv1(x)))\n",
        "        out = self.layer1(out)\n",
        "        out = self.layer2(out)\n",
        "        out = self.layer3(out)\n",
        "        out = self.layer4(out)\n",
        "        out = F.avg_pool2d(out, 4)\n",
        "        out = out.view(out.size(0), -1)\n",
        "        out = self.dropout(out)\n",
        "        out = self.linear(out)\n",
        "        return out\n",
        "\n",
        "\n",
        "def ResNet18():\n",
        "    return ResNet(BasicBlock, [2,1,1,1])"
      ]
    },
    {
      "cell_type": "code",
      "execution_count": null,
      "metadata": {
        "id": "D_3EESXzM6Pm"
      },
      "outputs": [],
      "source": [
        "net = ResNet18()"
      ]
    },
    {
      "cell_type": "code",
      "execution_count": null,
      "metadata": {
        "id": "ohhKgYPJNWUH"
      },
      "outputs": [],
      "source": [
        "## Move model to CUDA\n",
        "net = net.to(device)"
      ]
    },
    {
      "cell_type": "markdown",
      "source": [
        "## Model Summary and Parameters\n",
        "eters\n",
        "We are checking total number of trainable params and visualizing the model summary"
      ],
      "metadata": {
        "id": "NHaTzQVX5AGi"
      }
    },
    {
      "cell_type": "code",
      "source": [
        "summary(net, input_size = (3,32,32), batch_size = -1)"
      ],
      "metadata": {
        "id": "w9c2ObIG5KYq",
        "outputId": "97c749f4-81cc-41bc-b624-a00cec633fbb",
        "colab": {
          "base_uri": "https://localhost:8080/"
        }
      },
      "execution_count": null,
      "outputs": [
        {
          "output_type": "stream",
          "name": "stdout",
          "text": [
            "----------------------------------------------------------------\n",
            "        Layer (type)               Output Shape         Param #\n",
            "================================================================\n",
            "            Conv2d-1           [-1, 64, 32, 32]           1,728\n",
            "       BatchNorm2d-2           [-1, 64, 32, 32]             128\n",
            "            Conv2d-3           [-1, 64, 32, 32]          36,864\n",
            "       BatchNorm2d-4           [-1, 64, 32, 32]             128\n",
            "            Conv2d-5           [-1, 64, 32, 32]          36,864\n",
            "       BatchNorm2d-6           [-1, 64, 32, 32]             128\n",
            "        BasicBlock-7           [-1, 64, 32, 32]               0\n",
            "            Conv2d-8           [-1, 64, 32, 32]          36,864\n",
            "       BatchNorm2d-9           [-1, 64, 32, 32]             128\n",
            "           Conv2d-10           [-1, 64, 32, 32]          36,864\n",
            "      BatchNorm2d-11           [-1, 64, 32, 32]             128\n",
            "       BasicBlock-12           [-1, 64, 32, 32]               0\n",
            "           Conv2d-13          [-1, 128, 16, 16]          73,728\n",
            "      BatchNorm2d-14          [-1, 128, 16, 16]             256\n",
            "           Conv2d-15          [-1, 128, 16, 16]         147,456\n",
            "      BatchNorm2d-16          [-1, 128, 16, 16]             256\n",
            "           Conv2d-17          [-1, 128, 16, 16]           8,192\n",
            "      BatchNorm2d-18          [-1, 128, 16, 16]             256\n",
            "       BasicBlock-19          [-1, 128, 16, 16]               0\n",
            "           Conv2d-20            [-1, 256, 8, 8]         294,912\n",
            "      BatchNorm2d-21            [-1, 256, 8, 8]             512\n",
            "           Conv2d-22            [-1, 256, 8, 8]         589,824\n",
            "      BatchNorm2d-23            [-1, 256, 8, 8]             512\n",
            "           Conv2d-24            [-1, 256, 8, 8]          32,768\n",
            "      BatchNorm2d-25            [-1, 256, 8, 8]             512\n",
            "       BasicBlock-26            [-1, 256, 8, 8]               0\n",
            "           Conv2d-27            [-1, 512, 4, 4]       1,179,648\n",
            "      BatchNorm2d-28            [-1, 512, 4, 4]           1,024\n",
            "           Conv2d-29            [-1, 512, 4, 4]       2,359,296\n",
            "      BatchNorm2d-30            [-1, 512, 4, 4]           1,024\n",
            "           Conv2d-31            [-1, 512, 4, 4]         131,072\n",
            "      BatchNorm2d-32            [-1, 512, 4, 4]           1,024\n",
            "       BasicBlock-33            [-1, 512, 4, 4]               0\n",
            "          Dropout-34                  [-1, 512]               0\n",
            "           Linear-35                   [-1, 10]           5,130\n",
            "================================================================\n",
            "Total params: 4,977,226\n",
            "Trainable params: 4,977,226\n",
            "Non-trainable params: 0\n",
            "----------------------------------------------------------------\n",
            "Input size (MB): 0.01\n",
            "Forward/backward pass size (MB): 9.07\n",
            "Params size (MB): 18.99\n",
            "Estimated Total Size (MB): 28.06\n",
            "----------------------------------------------------------------\n"
          ]
        }
      ]
    },
    {
      "cell_type": "code",
      "execution_count": null,
      "metadata": {
        "id": "gSezSCrHNjDr"
      },
      "outputs": [],
      "source": [
        "total_trainable_parameters = sum(p.numel() for p in net.parameters() if p.requires_grad)"
      ]
    },
    {
      "cell_type": "code",
      "execution_count": null,
      "metadata": {
        "colab": {
          "base_uri": "https://localhost:8080/"
        },
        "id": "EfrGetaUN4Wc",
        "outputId": "f3237657-1edc-4031-a556-dcbb14deb04d"
      },
      "outputs": [
        {
          "output_type": "stream",
          "name": "stdout",
          "text": [
            "Total Trainable Parameters: 4977226\n"
          ]
        }
      ],
      "source": [
        "print(\"Total Trainable Parameters: %d\"%total_trainable_parameters)"
      ]
    },
    {
      "cell_type": "markdown",
      "source": [
        "Which is under 5 million :)"
      ],
      "metadata": {
        "id": "y7e9Ju8i57jC"
      }
    },
    {
      "cell_type": "markdown",
      "source": [
        "## Define Train and Test functions "
      ],
      "metadata": {
        "id": "5yg3m5dJ6ABy"
      }
    },
    {
      "cell_type": "code",
      "execution_count": null,
      "metadata": {
        "id": "iHI-vp7zNiv5"
      },
      "outputs": [],
      "source": [
        "# Training\n",
        "def train(epoch):\n",
        "    \n",
        "    ## Setting the model in training mode\n",
        "    net.train()\n",
        "    \n",
        "    ## Initialize Epoch loss and accuracy \n",
        "    train_loss = 0\n",
        "    train_acc = 0 \n",
        "    \n",
        "    ## Number of correct examples\n",
        "    correct = 0\n",
        "    total = 0\n",
        "\n",
        "\n",
        "    for batch_idx, (inputs, targets) in enumerate(trainloader):\n",
        "        ## Movie inputs and targets to cuda\n",
        "        inputs, targets = inputs.to(device), targets.to(device)\n",
        "\n",
        "        ## Set gradients to zero after every batch\n",
        "        optimizer.zero_grad()\n",
        "\n",
        "        ## Get predictions\n",
        "        outputs = net(inputs)\n",
        "\n",
        "        ## Compute Loss\n",
        "        loss = criterion(outputs, targets)\n",
        "\n",
        "        ## Do backprop\n",
        "        loss.backward()\n",
        "\n",
        "        ## Update weights \n",
        "        optimizer.step()\n",
        "\n",
        "        ## Add loss\n",
        "        train_loss += loss.item()\n",
        "        \n",
        "        ## Computer Number of correct examples\n",
        "        _, predicted = outputs.max(1)\n",
        "        total += targets.size(0)\n",
        "        correct += predicted.eq(targets).sum().item()\n",
        "\n",
        "    \n",
        "    \n",
        "    \n",
        "    train_acc += 100.*correct/total\n",
        "\n",
        "\n",
        "   \n",
        "    \n",
        "    return train_loss / len(trainloader) , train_acc"
      ]
    },
    {
      "cell_type": "code",
      "execution_count": null,
      "metadata": {
        "id": "1BOFuQk_NqGn"
      },
      "outputs": [],
      "source": [
        "def test(epoch):\n",
        "    ## Setting models to evaluation mode\n",
        "    net.eval()\n",
        "    \n",
        "    ## Initialize epoch loss and accuracy\n",
        "    test_loss = 0\n",
        "    test_acc = 0 \n",
        "\n",
        "    ## Number of correct examples\n",
        "    correct = 0\n",
        "    total = 0\n",
        "\n",
        "\n",
        "    with torch.no_grad():\n",
        "        for batch_idx, (inputs, targets) in enumerate(testloader):\n",
        "            ## Move inputs and targets to cuda\n",
        "\n",
        "            inputs, targets = inputs.to(device), targets.to(device)\n",
        "\n",
        "            ## Get predictions\n",
        "\n",
        "            outputs = net(inputs)\n",
        "\n",
        "            ## Compute Loss\n",
        "            loss = criterion(outputs, targets)\n",
        "            test_loss += loss.item()\n",
        "\n",
        "            ## Computer Accuracy \n",
        "            _, predicted = outputs.max(1)\n",
        "            total += targets.size(0)\n",
        "            correct += predicted.eq(targets).sum().item()\n",
        "            \n",
        "    test_acc = 100.*correct/total\n",
        "    \n",
        "    return test_loss / len(testloader) , test_acc"
      ]
    },
    {
      "cell_type": "code",
      "source": [
        "def epoch_time(start_time, end_time):\n",
        "    elapsed_time = end_time - start_time\n",
        "    elapsed_mins = int(elapsed_time / 60)\n",
        "    elapsed_secs = int(elapsed_time - (elapsed_mins * 60))\n",
        "    return elapsed_mins, elapsed_secs"
      ],
      "metadata": {
        "id": "AiL20tzQ_cqP"
      },
      "execution_count": null,
      "outputs": []
    },
    {
      "cell_type": "markdown",
      "source": [
        "## Defining Loss function, optimizer and LR Scheduler"
      ],
      "metadata": {
        "id": "6uZPLHsL41AJ"
      }
    },
    {
      "cell_type": "code",
      "execution_count": null,
      "metadata": {
        "id": "FPgb6I_YNYEF"
      },
      "outputs": [],
      "source": [
        "LEARNING_RATE = 0.1\n",
        "criterion = nn.CrossEntropyLoss()\n",
        "optimizer = optim.SGD(net.parameters(), lr = LEARNING_RATE,\n",
        "                       weight_decay=5e-4, momentum=0.9)\n",
        "scheduler = torch.optim.lr_scheduler.CosineAnnealingLR(optimizer, T_max=200)\n",
        "\n",
        "criterion = criterion.to(device)"
      ]
    },
    {
      "cell_type": "markdown",
      "source": [
        "## Train the model\n"
      ],
      "metadata": {
        "id": "sovF8bFq-4oe"
      }
    },
    {
      "cell_type": "code",
      "source": [
        "EPOCHS = 150\n",
        "best_testing_accuracy = 0 \n",
        "\n",
        "## Define model history to store accuracy and losses\n",
        "\n",
        "history = {}\n",
        "history[\"accuracy\"] = []\n",
        "history[\"test_accuracy\"] = []\n",
        "history[\"loss\"] = []\n",
        "history[\"test_loss\"] = []"
      ],
      "metadata": {
        "id": "60x4LOum6Enx"
      },
      "execution_count": null,
      "outputs": []
    },
    {
      "cell_type": "code",
      "execution_count": null,
      "metadata": {
        "colab": {
          "base_uri": "https://localhost:8080/"
        },
        "id": "hLyB4_45NreO",
        "outputId": "e8e8162e-1399-4c4c-a352-7996f139aa8d"
      },
      "outputs": [
        {
          "metadata": {
            "tags": null
          },
          "name": "stderr",
          "output_type": "stream",
          "text": [
            "  1%|          | 1/150 [00:36<1:31:34, 36.87s/it]"
          ]
        },
        {
          "metadata": {
            "tags": null
          },
          "name": "stdout",
          "output_type": "stream",
          "text": [
            "Training Loss: 1.686 | Training Acc: 38.124% | Testing Loss: 1.399 | Testing Acc:49.160%\n"
          ]
        },
        {
          "metadata": {
            "tags": null
          },
          "name": "stderr",
          "output_type": "stream",
          "text": [
            "\r  1%|▏         | 2/150 [01:13<1:30:25, 36.66s/it]"
          ]
        },
        {
          "metadata": {
            "tags": null
          },
          "name": "stdout",
          "output_type": "stream",
          "text": [
            "Training Loss: 1.178 | Training Acc: 57.310% | Testing Loss: 1.235 | Testing Acc:58.040%\n"
          ]
        },
        {
          "metadata": {
            "tags": null
          },
          "name": "stderr",
          "output_type": "stream",
          "text": [
            "\r  2%|▏         | 3/150 [01:50<1:30:51, 37.09s/it]"
          ]
        },
        {
          "metadata": {
            "tags": null
          },
          "name": "stdout",
          "output_type": "stream",
          "text": [
            "Training Loss: 0.923 | Training Acc: 67.608% | Testing Loss: 1.064 | Testing Acc:65.700%\n"
          ]
        },
        {
          "metadata": {
            "tags": null
          },
          "name": "stderr",
          "output_type": "stream",
          "text": [
            "\r  3%|▎         | 4/150 [02:27<1:29:29, 36.78s/it]"
          ]
        },
        {
          "metadata": {
            "tags": null
          },
          "name": "stdout",
          "output_type": "stream",
          "text": [
            "Training Loss: 0.770 | Training Acc: 73.066% | Testing Loss: 1.080 | Testing Acc:66.580%\n"
          ]
        },
        {
          "metadata": {
            "tags": null
          },
          "name": "stderr",
          "output_type": "stream",
          "text": [
            "\r  3%|▎         | 5/150 [03:04<1:28:50, 36.76s/it]"
          ]
        },
        {
          "metadata": {
            "tags": null
          },
          "name": "stdout",
          "output_type": "stream",
          "text": [
            "Training Loss: 0.663 | Training Acc: 77.068% | Testing Loss: 0.872 | Testing Acc:71.740%\n"
          ]
        },
        {
          "metadata": {
            "tags": null
          },
          "name": "stderr",
          "output_type": "stream",
          "text": [
            "\r  4%|▍         | 6/150 [03:40<1:28:14, 36.77s/it]"
          ]
        },
        {
          "metadata": {
            "tags": null
          },
          "name": "stdout",
          "output_type": "stream",
          "text": [
            "Training Loss: 0.598 | Training Acc: 79.344% | Testing Loss: 0.621 | Testing Acc:78.470%\n"
          ]
        },
        {
          "metadata": {
            "tags": null
          },
          "name": "stderr",
          "output_type": "stream",
          "text": [
            "\r  5%|▍         | 7/150 [04:17<1:27:14, 36.60s/it]"
          ]
        },
        {
          "metadata": {
            "tags": null
          },
          "name": "stdout",
          "output_type": "stream",
          "text": [
            "Training Loss: 0.555 | Training Acc: 81.030% | Testing Loss: 0.639 | Testing Acc:78.140%\n"
          ]
        },
        {
          "metadata": {
            "tags": null
          },
          "name": "stderr",
          "output_type": "stream",
          "text": [
            "\r  5%|▌         | 8/150 [04:53<1:26:43, 36.65s/it]"
          ]
        },
        {
          "metadata": {
            "tags": null
          },
          "name": "stdout",
          "output_type": "stream",
          "text": [
            "Training Loss: 0.530 | Training Acc: 81.754% | Testing Loss: 0.712 | Testing Acc:76.720%\n"
          ]
        },
        {
          "metadata": {
            "tags": null
          },
          "name": "stderr",
          "output_type": "stream",
          "text": [
            "\r  6%|▌         | 9/150 [05:30<1:26:07, 36.65s/it]"
          ]
        },
        {
          "metadata": {
            "tags": null
          },
          "name": "stdout",
          "output_type": "stream",
          "text": [
            "Training Loss: 0.504 | Training Acc: 82.908% | Testing Loss: 0.681 | Testing Acc:76.170%\n"
          ]
        },
        {
          "metadata": {
            "tags": null
          },
          "name": "stderr",
          "output_type": "stream",
          "text": [
            "\r  7%|▋         | 10/150 [06:07<1:26:02, 36.88s/it]"
          ]
        },
        {
          "metadata": {
            "tags": null
          },
          "name": "stdout",
          "output_type": "stream",
          "text": [
            "Training Loss: 0.484 | Training Acc: 83.554% | Testing Loss: 0.795 | Testing Acc:75.390%\n"
          ]
        },
        {
          "metadata": {
            "tags": null
          },
          "name": "stderr",
          "output_type": "stream",
          "text": [
            "\r  7%|▋         | 11/150 [06:43<1:24:41, 36.56s/it]"
          ]
        },
        {
          "metadata": {
            "tags": null
          },
          "name": "stdout",
          "output_type": "stream",
          "text": [
            "Training Loss: 0.469 | Training Acc: 84.026% | Testing Loss: 0.571 | Testing Acc:80.190%\n"
          ]
        },
        {
          "metadata": {
            "tags": null
          },
          "name": "stderr",
          "output_type": "stream",
          "text": [
            "\r  8%|▊         | 12/150 [07:20<1:24:15, 36.63s/it]"
          ]
        },
        {
          "metadata": {
            "tags": null
          },
          "name": "stdout",
          "output_type": "stream",
          "text": [
            "Training Loss: 0.462 | Training Acc: 84.270% | Testing Loss: 0.623 | Testing Acc:78.520%\n"
          ]
        },
        {
          "metadata": {
            "tags": null
          },
          "name": "stderr",
          "output_type": "stream",
          "text": [
            "\r  9%|▊         | 13/150 [07:56<1:23:21, 36.51s/it]"
          ]
        },
        {
          "metadata": {
            "tags": null
          },
          "name": "stdout",
          "output_type": "stream",
          "text": [
            "Training Loss: 0.440 | Training Acc: 85.144% | Testing Loss: 0.625 | Testing Acc:80.070%\n"
          ]
        },
        {
          "metadata": {
            "tags": null
          },
          "name": "stderr",
          "output_type": "stream",
          "text": [
            "\r  9%|▉         | 14/150 [08:34<1:23:22, 36.79s/it]"
          ]
        },
        {
          "metadata": {
            "tags": null
          },
          "name": "stdout",
          "output_type": "stream",
          "text": [
            "Training Loss: 0.434 | Training Acc: 85.182% | Testing Loss: 0.609 | Testing Acc:80.550%\n"
          ]
        },
        {
          "metadata": {
            "tags": null
          },
          "name": "stderr",
          "output_type": "stream",
          "text": [
            "\r 10%|█         | 15/150 [09:11<1:23:13, 36.99s/it]"
          ]
        },
        {
          "metadata": {
            "tags": null
          },
          "name": "stdout",
          "output_type": "stream",
          "text": [
            "Training Loss: 0.426 | Training Acc: 85.434% | Testing Loss: 0.697 | Testing Acc:78.810%\n"
          ]
        },
        {
          "metadata": {
            "tags": null
          },
          "name": "stderr",
          "output_type": "stream",
          "text": [
            "\r 11%|█         | 16/150 [09:47<1:22:05, 36.76s/it]"
          ]
        },
        {
          "metadata": {
            "tags": null
          },
          "name": "stdout",
          "output_type": "stream",
          "text": [
            "Training Loss: 0.418 | Training Acc: 85.742% | Testing Loss: 0.723 | Testing Acc:76.890%\n"
          ]
        },
        {
          "metadata": {
            "tags": null
          },
          "name": "stderr",
          "output_type": "stream",
          "text": [
            "\r 11%|█▏        | 17/150 [10:24<1:21:38, 36.83s/it]"
          ]
        },
        {
          "metadata": {
            "tags": null
          },
          "name": "stdout",
          "output_type": "stream",
          "text": [
            "Training Loss: 0.414 | Training Acc: 85.904% | Testing Loss: 0.630 | Testing Acc:80.250%\n"
          ]
        },
        {
          "metadata": {
            "tags": null
          },
          "name": "stderr",
          "output_type": "stream",
          "text": [
            "\r 12%|█▏        | 18/150 [11:01<1:20:43, 36.69s/it]"
          ]
        },
        {
          "metadata": {
            "tags": null
          },
          "name": "stdout",
          "output_type": "stream",
          "text": [
            "Training Loss: 0.407 | Training Acc: 85.988% | Testing Loss: 0.547 | Testing Acc:82.320%\n"
          ]
        },
        {
          "metadata": {
            "tags": null
          },
          "name": "stderr",
          "output_type": "stream",
          "text": [
            "\r 13%|█▎        | 19/150 [11:38<1:20:12, 36.74s/it]"
          ]
        },
        {
          "metadata": {
            "tags": null
          },
          "name": "stdout",
          "output_type": "stream",
          "text": [
            "Training Loss: 0.403 | Training Acc: 86.266% | Testing Loss: 0.842 | Testing Acc:74.110%\n"
          ]
        },
        {
          "metadata": {
            "tags": null
          },
          "name": "stderr",
          "output_type": "stream",
          "text": [
            "\r 13%|█▎        | 20/150 [12:13<1:19:00, 36.47s/it]"
          ]
        },
        {
          "metadata": {
            "tags": null
          },
          "name": "stdout",
          "output_type": "stream",
          "text": [
            "Training Loss: 0.392 | Training Acc: 86.688% | Testing Loss: 0.649 | Testing Acc:79.280%\n"
          ]
        },
        {
          "metadata": {
            "tags": null
          },
          "name": "stderr",
          "output_type": "stream",
          "text": [
            "\r 14%|█▍        | 21/150 [12:50<1:18:25, 36.47s/it]"
          ]
        },
        {
          "metadata": {
            "tags": null
          },
          "name": "stdout",
          "output_type": "stream",
          "text": [
            "Training Loss: 0.393 | Training Acc: 86.718% | Testing Loss: 0.573 | Testing Acc:81.680%\n"
          ]
        },
        {
          "metadata": {
            "tags": null
          },
          "name": "stderr",
          "output_type": "stream",
          "text": [
            "\r 15%|█▍        | 22/150 [13:26<1:17:30, 36.33s/it]"
          ]
        },
        {
          "metadata": {
            "tags": null
          },
          "name": "stdout",
          "output_type": "stream",
          "text": [
            "Training Loss: 0.386 | Training Acc: 86.890% | Testing Loss: 0.699 | Testing Acc:78.780%\n"
          ]
        },
        {
          "metadata": {
            "tags": null
          },
          "name": "stderr",
          "output_type": "stream",
          "text": [
            "\r 15%|█▌        | 23/150 [14:03<1:17:08, 36.44s/it]"
          ]
        },
        {
          "metadata": {
            "tags": null
          },
          "name": "stdout",
          "output_type": "stream",
          "text": [
            "Training Loss: 0.386 | Training Acc: 86.938% | Testing Loss: 0.607 | Testing Acc:80.410%\n"
          ]
        },
        {
          "metadata": {
            "tags": null
          },
          "name": "stderr",
          "output_type": "stream",
          "text": [
            "\r 16%|█▌        | 24/150 [14:39<1:16:42, 36.53s/it]"
          ]
        },
        {
          "metadata": {
            "tags": null
          },
          "name": "stdout",
          "output_type": "stream",
          "text": [
            "Training Loss: 0.387 | Training Acc: 86.696% | Testing Loss: 0.574 | Testing Acc:81.400%\n"
          ]
        },
        {
          "metadata": {
            "tags": null
          },
          "name": "stderr",
          "output_type": "stream",
          "text": [
            "\r 17%|█▋        | 25/150 [15:16<1:16:08, 36.55s/it]"
          ]
        },
        {
          "metadata": {
            "tags": null
          },
          "name": "stdout",
          "output_type": "stream",
          "text": [
            "Training Loss: 0.377 | Training Acc: 87.252% | Testing Loss: 0.512 | Testing Acc:83.350%\n"
          ]
        },
        {
          "metadata": {
            "tags": null
          },
          "name": "stderr",
          "output_type": "stream",
          "text": [
            "\r 17%|█▋        | 26/150 [15:52<1:15:08, 36.36s/it]"
          ]
        },
        {
          "metadata": {
            "tags": null
          },
          "name": "stdout",
          "output_type": "stream",
          "text": [
            "Training Loss: 0.375 | Training Acc: 87.080% | Testing Loss: 0.508 | Testing Acc:83.130%\n"
          ]
        },
        {
          "metadata": {
            "tags": null
          },
          "name": "stderr",
          "output_type": "stream",
          "text": [
            "\r 18%|█▊        | 27/150 [16:28<1:14:44, 36.46s/it]"
          ]
        },
        {
          "metadata": {
            "tags": null
          },
          "name": "stdout",
          "output_type": "stream",
          "text": [
            "Training Loss: 0.370 | Training Acc: 87.332% | Testing Loss: 0.568 | Testing Acc:81.970%\n"
          ]
        },
        {
          "metadata": {
            "tags": null
          },
          "name": "stderr",
          "output_type": "stream",
          "text": [
            "\r 19%|█▊        | 28/150 [17:06<1:14:36, 36.69s/it]"
          ]
        },
        {
          "metadata": {
            "tags": null
          },
          "name": "stdout",
          "output_type": "stream",
          "text": [
            "Training Loss: 0.365 | Training Acc: 87.540% | Testing Loss: 0.672 | Testing Acc:79.090%\n"
          ]
        },
        {
          "metadata": {
            "tags": null
          },
          "name": "stderr",
          "output_type": "stream",
          "text": [
            "\r 19%|█▉        | 29/150 [17:42<1:13:42, 36.55s/it]"
          ]
        },
        {
          "metadata": {
            "tags": null
          },
          "name": "stdout",
          "output_type": "stream",
          "text": [
            "Training Loss: 0.364 | Training Acc: 87.660% | Testing Loss: 0.574 | Testing Acc:80.750%\n"
          ]
        },
        {
          "metadata": {
            "tags": null
          },
          "name": "stderr",
          "output_type": "stream",
          "text": [
            "\r 20%|██        | 30/150 [18:19<1:13:21, 36.68s/it]"
          ]
        },
        {
          "metadata": {
            "tags": null
          },
          "name": "stdout",
          "output_type": "stream",
          "text": [
            "Training Loss: 0.362 | Training Acc: 87.710% | Testing Loss: 0.667 | Testing Acc:79.230%\n"
          ]
        },
        {
          "metadata": {
            "tags": null
          },
          "name": "stderr",
          "output_type": "stream",
          "text": [
            "\r 21%|██        | 31/150 [18:55<1:12:13, 36.42s/it]"
          ]
        },
        {
          "metadata": {
            "tags": null
          },
          "name": "stdout",
          "output_type": "stream",
          "text": [
            "Training Loss: 0.366 | Training Acc: 87.524% | Testing Loss: 0.464 | Testing Acc:84.730%\n"
          ]
        },
        {
          "metadata": {
            "tags": null
          },
          "name": "stderr",
          "output_type": "stream",
          "text": [
            "\r 21%|██▏       | 32/150 [19:31<1:11:39, 36.43s/it]"
          ]
        },
        {
          "metadata": {
            "tags": null
          },
          "name": "stdout",
          "output_type": "stream",
          "text": [
            "Training Loss: 0.359 | Training Acc: 87.824% | Testing Loss: 0.592 | Testing Acc:81.390%\n"
          ]
        },
        {
          "metadata": {
            "tags": null
          },
          "name": "stderr",
          "output_type": "stream",
          "text": [
            "\r 22%|██▏       | 33/150 [20:07<1:10:43, 36.27s/it]"
          ]
        },
        {
          "metadata": {
            "tags": null
          },
          "name": "stdout",
          "output_type": "stream",
          "text": [
            "Training Loss: 0.357 | Training Acc: 87.740% | Testing Loss: 0.545 | Testing Acc:83.060%\n"
          ]
        },
        {
          "metadata": {
            "tags": null
          },
          "name": "stderr",
          "output_type": "stream",
          "text": [
            "\r 23%|██▎       | 34/150 [20:44<1:10:23, 36.41s/it]"
          ]
        },
        {
          "metadata": {
            "tags": null
          },
          "name": "stdout",
          "output_type": "stream",
          "text": [
            "Training Loss: 0.353 | Training Acc: 87.934% | Testing Loss: 0.526 | Testing Acc:83.090%\n"
          ]
        },
        {
          "metadata": {
            "tags": null
          },
          "name": "stderr",
          "output_type": "stream",
          "text": [
            "\r 23%|██▎       | 35/150 [21:20<1:09:54, 36.47s/it]"
          ]
        },
        {
          "metadata": {
            "tags": null
          },
          "name": "stdout",
          "output_type": "stream",
          "text": [
            "Training Loss: 0.357 | Training Acc: 87.774% | Testing Loss: 0.590 | Testing Acc:81.360%\n"
          ]
        },
        {
          "metadata": {
            "tags": null
          },
          "name": "stderr",
          "output_type": "stream",
          "text": [
            "\r 24%|██▍       | 36/150 [21:57<1:09:04, 36.36s/it]"
          ]
        },
        {
          "metadata": {
            "tags": null
          },
          "name": "stdout",
          "output_type": "stream",
          "text": [
            "Training Loss: 0.354 | Training Acc: 88.066% | Testing Loss: 0.611 | Testing Acc:80.750%\n"
          ]
        },
        {
          "metadata": {
            "tags": null
          },
          "name": "stderr",
          "output_type": "stream",
          "text": [
            "\r 25%|██▍       | 37/150 [22:33<1:08:15, 36.25s/it]"
          ]
        },
        {
          "metadata": {
            "tags": null
          },
          "name": "stdout",
          "output_type": "stream",
          "text": [
            "Training Loss: 0.346 | Training Acc: 88.268% | Testing Loss: 0.534 | Testing Acc:82.720%\n"
          ]
        },
        {
          "metadata": {
            "tags": null
          },
          "name": "stderr",
          "output_type": "stream",
          "text": [
            "\r 25%|██▌       | 38/150 [23:09<1:07:44, 36.29s/it]"
          ]
        },
        {
          "metadata": {
            "tags": null
          },
          "name": "stdout",
          "output_type": "stream",
          "text": [
            "Training Loss: 0.343 | Training Acc: 88.364% | Testing Loss: 0.510 | Testing Acc:83.480%\n"
          ]
        },
        {
          "metadata": {
            "tags": null
          },
          "name": "stderr",
          "output_type": "stream",
          "text": [
            "\r 26%|██▌       | 39/150 [23:45<1:06:57, 36.19s/it]"
          ]
        },
        {
          "metadata": {
            "tags": null
          },
          "name": "stdout",
          "output_type": "stream",
          "text": [
            "Training Loss: 0.345 | Training Acc: 88.346% | Testing Loss: 0.616 | Testing Acc:80.160%\n"
          ]
        },
        {
          "metadata": {
            "tags": null
          },
          "name": "stderr",
          "output_type": "stream",
          "text": [
            "\r 27%|██▋       | 40/150 [24:22<1:06:56, 36.52s/it]"
          ]
        },
        {
          "metadata": {
            "tags": null
          },
          "name": "stdout",
          "output_type": "stream",
          "text": [
            "Training Loss: 0.341 | Training Acc: 88.532% | Testing Loss: 0.524 | Testing Acc:83.170%\n"
          ]
        },
        {
          "metadata": {
            "tags": null
          },
          "name": "stderr",
          "output_type": "stream",
          "text": [
            "\r 27%|██▋       | 41/150 [24:58<1:05:58, 36.31s/it]"
          ]
        },
        {
          "metadata": {
            "tags": null
          },
          "name": "stdout",
          "output_type": "stream",
          "text": [
            "Training Loss: 0.340 | Training Acc: 88.618% | Testing Loss: 0.462 | Testing Acc:84.690%\n"
          ]
        },
        {
          "metadata": {
            "tags": null
          },
          "name": "stderr",
          "output_type": "stream",
          "text": [
            "\r 28%|██▊       | 42/150 [25:34<1:05:18, 36.29s/it]"
          ]
        },
        {
          "metadata": {
            "tags": null
          },
          "name": "stdout",
          "output_type": "stream",
          "text": [
            "Training Loss: 0.342 | Training Acc: 88.250% | Testing Loss: 0.584 | Testing Acc:81.880%\n"
          ]
        },
        {
          "metadata": {
            "tags": null
          },
          "name": "stderr",
          "output_type": "stream",
          "text": [
            "\r 29%|██▊       | 43/150 [26:10<1:04:27, 36.14s/it]"
          ]
        },
        {
          "metadata": {
            "tags": null
          },
          "name": "stdout",
          "output_type": "stream",
          "text": [
            "Training Loss: 0.337 | Training Acc: 88.586% | Testing Loss: 0.566 | Testing Acc:81.480%\n"
          ]
        },
        {
          "metadata": {
            "tags": null
          },
          "name": "stderr",
          "output_type": "stream",
          "text": [
            "\r 29%|██▉       | 44/150 [26:46<1:03:58, 36.21s/it]"
          ]
        },
        {
          "metadata": {
            "tags": null
          },
          "name": "stdout",
          "output_type": "stream",
          "text": [
            "Training Loss: 0.338 | Training Acc: 88.430% | Testing Loss: 0.508 | Testing Acc:84.090%\n"
          ]
        },
        {
          "metadata": {
            "tags": null
          },
          "name": "stderr",
          "output_type": "stream",
          "text": [
            "\r 30%|███       | 45/150 [27:23<1:03:48, 36.46s/it]"
          ]
        },
        {
          "metadata": {
            "tags": null
          },
          "name": "stdout",
          "output_type": "stream",
          "text": [
            "Training Loss: 0.332 | Training Acc: 88.852% | Testing Loss: 0.614 | Testing Acc:81.250%\n"
          ]
        },
        {
          "metadata": {
            "tags": null
          },
          "name": "stderr",
          "output_type": "stream",
          "text": [
            "\r 31%|███       | 46/150 [28:00<1:03:06, 36.40s/it]"
          ]
        },
        {
          "metadata": {
            "tags": null
          },
          "name": "stdout",
          "output_type": "stream",
          "text": [
            "Training Loss: 0.328 | Training Acc: 88.870% | Testing Loss: 0.451 | Testing Acc:85.000%\n"
          ]
        },
        {
          "metadata": {
            "tags": null
          },
          "name": "stderr",
          "output_type": "stream",
          "text": [
            "\r 31%|███▏      | 47/150 [28:37<1:02:48, 36.59s/it]"
          ]
        },
        {
          "metadata": {
            "tags": null
          },
          "name": "stdout",
          "output_type": "stream",
          "text": [
            "Training Loss: 0.325 | Training Acc: 88.852% | Testing Loss: 0.608 | Testing Acc:82.220%\n"
          ]
        },
        {
          "metadata": {
            "tags": null
          },
          "name": "stderr",
          "output_type": "stream",
          "text": [
            "\r 32%|███▏      | 48/150 [29:13<1:01:50, 36.37s/it]"
          ]
        },
        {
          "metadata": {
            "tags": null
          },
          "name": "stdout",
          "output_type": "stream",
          "text": [
            "Training Loss: 0.335 | Training Acc: 88.510% | Testing Loss: 0.583 | Testing Acc:81.860%\n"
          ]
        },
        {
          "metadata": {
            "tags": null
          },
          "name": "stderr",
          "output_type": "stream",
          "text": [
            "\r 33%|███▎      | 49/150 [29:49<1:01:29, 36.53s/it]"
          ]
        },
        {
          "metadata": {
            "tags": null
          },
          "name": "stdout",
          "output_type": "stream",
          "text": [
            "Training Loss: 0.328 | Training Acc: 88.920% | Testing Loss: 0.425 | Testing Acc:85.750%\n"
          ]
        },
        {
          "metadata": {
            "tags": null
          },
          "name": "stderr",
          "output_type": "stream",
          "text": [
            "\r 33%|███▎      | 50/150 [30:26<1:00:47, 36.48s/it]"
          ]
        },
        {
          "metadata": {
            "tags": null
          },
          "name": "stdout",
          "output_type": "stream",
          "text": [
            "Training Loss: 0.330 | Training Acc: 88.710% | Testing Loss: 0.586 | Testing Acc:81.450%\n"
          ]
        },
        {
          "metadata": {
            "tags": null
          },
          "name": "stderr",
          "output_type": "stream",
          "text": [
            "\r 34%|███▍      | 51/150 [31:03<1:00:29, 36.66s/it]"
          ]
        },
        {
          "metadata": {
            "tags": null
          },
          "name": "stdout",
          "output_type": "stream",
          "text": [
            "Training Loss: 0.326 | Training Acc: 88.970% | Testing Loss: 0.622 | Testing Acc:80.320%\n"
          ]
        },
        {
          "metadata": {
            "tags": null
          },
          "name": "stderr",
          "output_type": "stream",
          "text": [
            "\r 35%|███▍      | 52/150 [31:39<59:23, 36.36s/it]  "
          ]
        },
        {
          "metadata": {
            "tags": null
          },
          "name": "stdout",
          "output_type": "stream",
          "text": [
            "Training Loss: 0.320 | Training Acc: 89.242% | Testing Loss: 0.529 | Testing Acc:82.840%\n"
          ]
        },
        {
          "metadata": {
            "tags": null
          },
          "name": "stderr",
          "output_type": "stream",
          "text": [
            "\r 35%|███▌      | 53/150 [32:15<58:46, 36.36s/it]"
          ]
        },
        {
          "metadata": {
            "tags": null
          },
          "name": "stdout",
          "output_type": "stream",
          "text": [
            "Training Loss: 0.318 | Training Acc: 89.158% | Testing Loss: 0.433 | Testing Acc:85.940%\n"
          ]
        },
        {
          "metadata": {
            "tags": null
          },
          "name": "stderr",
          "output_type": "stream",
          "text": [
            "\r 36%|███▌      | 54/150 [32:51<57:59, 36.25s/it]"
          ]
        },
        {
          "metadata": {
            "tags": null
          },
          "name": "stdout",
          "output_type": "stream",
          "text": [
            "Training Loss: 0.321 | Training Acc: 89.102% | Testing Loss: 0.498 | Testing Acc:83.770%\n"
          ]
        },
        {
          "metadata": {
            "tags": null
          },
          "name": "stderr",
          "output_type": "stream",
          "text": [
            "\r 37%|███▋      | 55/150 [33:27<57:26, 36.28s/it]"
          ]
        },
        {
          "metadata": {
            "tags": null
          },
          "name": "stdout",
          "output_type": "stream",
          "text": [
            "Training Loss: 0.314 | Training Acc: 89.216% | Testing Loss: 0.440 | Testing Acc:85.630%\n"
          ]
        },
        {
          "metadata": {
            "tags": null
          },
          "name": "stderr",
          "output_type": "stream",
          "text": [
            "\r 37%|███▋      | 56/150 [34:04<57:02, 36.41s/it]"
          ]
        },
        {
          "metadata": {
            "tags": null
          },
          "name": "stdout",
          "output_type": "stream",
          "text": [
            "Training Loss: 0.308 | Training Acc: 89.484% | Testing Loss: 0.451 | Testing Acc:85.220%\n"
          ]
        },
        {
          "metadata": {
            "tags": null
          },
          "name": "stderr",
          "output_type": "stream",
          "text": [
            "\r 38%|███▊      | 57/150 [34:40<56:22, 36.37s/it]"
          ]
        },
        {
          "metadata": {
            "tags": null
          },
          "name": "stdout",
          "output_type": "stream",
          "text": [
            "Training Loss: 0.312 | Training Acc: 89.272% | Testing Loss: 0.573 | Testing Acc:81.800%\n"
          ]
        },
        {
          "metadata": {
            "tags": null
          },
          "name": "stderr",
          "output_type": "stream",
          "text": [
            "\r 39%|███▊      | 58/150 [35:16<55:31, 36.21s/it]"
          ]
        },
        {
          "metadata": {
            "tags": null
          },
          "name": "stdout",
          "output_type": "stream",
          "text": [
            "Training Loss: 0.311 | Training Acc: 89.268% | Testing Loss: 0.430 | Testing Acc:85.770%\n"
          ]
        },
        {
          "metadata": {
            "tags": null
          },
          "name": "stderr",
          "output_type": "stream",
          "text": [
            "\r 39%|███▉      | 59/150 [35:52<54:56, 36.23s/it]"
          ]
        },
        {
          "metadata": {
            "tags": null
          },
          "name": "stdout",
          "output_type": "stream",
          "text": [
            "Training Loss: 0.313 | Training Acc: 89.356% | Testing Loss: 0.629 | Testing Acc:81.190%\n"
          ]
        },
        {
          "metadata": {
            "tags": null
          },
          "name": "stderr",
          "output_type": "stream",
          "text": [
            "\r 40%|████      | 60/150 [36:30<54:50, 36.56s/it]"
          ]
        },
        {
          "metadata": {
            "tags": null
          },
          "name": "stdout",
          "output_type": "stream",
          "text": [
            "Training Loss: 0.304 | Training Acc: 89.642% | Testing Loss: 0.452 | Testing Acc:85.720%\n"
          ]
        },
        {
          "metadata": {
            "tags": null
          },
          "name": "stderr",
          "output_type": "stream",
          "text": [
            "\r 41%|████      | 61/150 [37:09<55:32, 37.44s/it]"
          ]
        },
        {
          "metadata": {
            "tags": null
          },
          "name": "stdout",
          "output_type": "stream",
          "text": [
            "Training Loss: 0.306 | Training Acc: 89.512% | Testing Loss: 0.450 | Testing Acc:85.310%\n"
          ]
        },
        {
          "metadata": {
            "tags": null
          },
          "name": "stderr",
          "output_type": "stream",
          "text": [
            "\r 41%|████▏     | 62/150 [37:45<54:19, 37.04s/it]"
          ]
        },
        {
          "metadata": {
            "tags": null
          },
          "name": "stdout",
          "output_type": "stream",
          "text": [
            "Training Loss: 0.302 | Training Acc: 89.678% | Testing Loss: 0.409 | Testing Acc:86.940%\n"
          ]
        },
        {
          "metadata": {
            "tags": null
          },
          "name": "stderr",
          "output_type": "stream",
          "text": [
            "\r 42%|████▏     | 63/150 [38:23<53:52, 37.16s/it]"
          ]
        },
        {
          "metadata": {
            "tags": null
          },
          "name": "stdout",
          "output_type": "stream",
          "text": [
            "Training Loss: 0.300 | Training Acc: 89.852% | Testing Loss: 0.532 | Testing Acc:83.470%\n"
          ]
        },
        {
          "metadata": {
            "tags": null
          },
          "name": "stderr",
          "output_type": "stream",
          "text": [
            "\r 43%|████▎     | 64/150 [38:59<52:55, 36.93s/it]"
          ]
        },
        {
          "metadata": {
            "tags": null
          },
          "name": "stdout",
          "output_type": "stream",
          "text": [
            "Training Loss: 0.299 | Training Acc: 89.656% | Testing Loss: 0.541 | Testing Acc:82.340%\n"
          ]
        },
        {
          "metadata": {
            "tags": null
          },
          "name": "stderr",
          "output_type": "stream",
          "text": [
            "\r 43%|████▎     | 65/150 [39:35<51:56, 36.66s/it]"
          ]
        },
        {
          "metadata": {
            "tags": null
          },
          "name": "stdout",
          "output_type": "stream",
          "text": [
            "Training Loss: 0.297 | Training Acc: 89.920% | Testing Loss: 0.441 | Testing Acc:85.780%\n"
          ]
        },
        {
          "metadata": {
            "tags": null
          },
          "name": "stderr",
          "output_type": "stream",
          "text": [
            "\r 44%|████▍     | 66/150 [40:11<51:01, 36.45s/it]"
          ]
        },
        {
          "metadata": {
            "tags": null
          },
          "name": "stdout",
          "output_type": "stream",
          "text": [
            "Training Loss: 0.292 | Training Acc: 90.084% | Testing Loss: 0.402 | Testing Acc:86.460%\n"
          ]
        },
        {
          "metadata": {
            "tags": null
          },
          "name": "stderr",
          "output_type": "stream",
          "text": [
            "\r 45%|████▍     | 67/150 [40:48<50:25, 36.45s/it]"
          ]
        },
        {
          "metadata": {
            "tags": null
          },
          "name": "stdout",
          "output_type": "stream",
          "text": [
            "Training Loss: 0.294 | Training Acc: 90.084% | Testing Loss: 0.422 | Testing Acc:86.240%\n"
          ]
        },
        {
          "metadata": {
            "tags": null
          },
          "name": "stderr",
          "output_type": "stream",
          "text": [
            "\r 45%|████▌     | 68/150 [41:24<49:42, 36.37s/it]"
          ]
        },
        {
          "metadata": {
            "tags": null
          },
          "name": "stdout",
          "output_type": "stream",
          "text": [
            "Training Loss: 0.286 | Training Acc: 90.340% | Testing Loss: 0.567 | Testing Acc:82.160%\n"
          ]
        },
        {
          "metadata": {
            "tags": null
          },
          "name": "stderr",
          "output_type": "stream",
          "text": [
            "\r 46%|████▌     | 69/150 [42:01<49:20, 36.55s/it]"
          ]
        },
        {
          "metadata": {
            "tags": null
          },
          "name": "stdout",
          "output_type": "stream",
          "text": [
            "Training Loss: 0.288 | Training Acc: 90.208% | Testing Loss: 0.447 | Testing Acc:85.050%\n"
          ]
        },
        {
          "metadata": {
            "tags": null
          },
          "name": "stderr",
          "output_type": "stream",
          "text": [
            "\r 47%|████▋     | 70/150 [42:36<48:23, 36.30s/it]"
          ]
        },
        {
          "metadata": {
            "tags": null
          },
          "name": "stdout",
          "output_type": "stream",
          "text": [
            "Training Loss: 0.292 | Training Acc: 89.960% | Testing Loss: 0.471 | Testing Acc:85.610%\n"
          ]
        },
        {
          "metadata": {
            "tags": null
          },
          "name": "stderr",
          "output_type": "stream",
          "text": [
            "\r 47%|████▋     | 71/150 [43:13<47:53, 36.37s/it]"
          ]
        },
        {
          "metadata": {
            "tags": null
          },
          "name": "stdout",
          "output_type": "stream",
          "text": [
            "Training Loss: 0.286 | Training Acc: 90.234% | Testing Loss: 0.530 | Testing Acc:82.970%\n"
          ]
        },
        {
          "metadata": {
            "tags": null
          },
          "name": "stderr",
          "output_type": "stream",
          "text": [
            "\r 48%|████▊     | 72/150 [43:50<47:20, 36.41s/it]"
          ]
        },
        {
          "metadata": {
            "tags": null
          },
          "name": "stdout",
          "output_type": "stream",
          "text": [
            "Training Loss: 0.287 | Training Acc: 90.208% | Testing Loss: 0.405 | Testing Acc:86.730%\n"
          ]
        },
        {
          "metadata": {
            "tags": null
          },
          "name": "stderr",
          "output_type": "stream",
          "text": [
            "\r 49%|████▊     | 73/150 [44:26<46:37, 36.33s/it]"
          ]
        },
        {
          "metadata": {
            "tags": null
          },
          "name": "stdout",
          "output_type": "stream",
          "text": [
            "Training Loss: 0.281 | Training Acc: 90.358% | Testing Loss: 0.589 | Testing Acc:81.420%\n"
          ]
        },
        {
          "metadata": {
            "tags": null
          },
          "name": "stderr",
          "output_type": "stream",
          "text": [
            "\r 49%|████▉     | 74/150 [45:03<46:32, 36.74s/it]"
          ]
        },
        {
          "metadata": {
            "tags": null
          },
          "name": "stdout",
          "output_type": "stream",
          "text": [
            "Training Loss: 0.281 | Training Acc: 90.380% | Testing Loss: 0.650 | Testing Acc:80.770%\n"
          ]
        },
        {
          "metadata": {
            "tags": null
          },
          "name": "stderr",
          "output_type": "stream",
          "text": [
            "\r 50%|█████     | 75/150 [45:39<45:34, 36.46s/it]"
          ]
        },
        {
          "metadata": {
            "tags": null
          },
          "name": "stdout",
          "output_type": "stream",
          "text": [
            "Training Loss: 0.275 | Training Acc: 90.766% | Testing Loss: 0.467 | Testing Acc:85.150%\n"
          ]
        },
        {
          "metadata": {
            "tags": null
          },
          "name": "stderr",
          "output_type": "stream",
          "text": [
            "\r 51%|█████     | 76/150 [46:15<44:49, 36.35s/it]"
          ]
        },
        {
          "metadata": {
            "tags": null
          },
          "name": "stdout",
          "output_type": "stream",
          "text": [
            "Training Loss: 0.272 | Training Acc: 90.732% | Testing Loss: 0.573 | Testing Acc:80.970%\n"
          ]
        },
        {
          "metadata": {
            "tags": null
          },
          "name": "stderr",
          "output_type": "stream",
          "text": [
            "\r 51%|█████▏    | 77/150 [46:51<43:57, 36.14s/it]"
          ]
        },
        {
          "metadata": {
            "tags": null
          },
          "name": "stdout",
          "output_type": "stream",
          "text": [
            "Training Loss: 0.273 | Training Acc: 90.702% | Testing Loss: 0.552 | Testing Acc:83.670%\n"
          ]
        },
        {
          "metadata": {
            "tags": null
          },
          "name": "stderr",
          "output_type": "stream",
          "text": [
            "\r 52%|█████▏    | 78/150 [47:27<43:30, 36.25s/it]"
          ]
        },
        {
          "metadata": {
            "tags": null
          },
          "name": "stdout",
          "output_type": "stream",
          "text": [
            "Training Loss: 0.270 | Training Acc: 90.832% | Testing Loss: 0.522 | Testing Acc:83.290%\n"
          ]
        },
        {
          "metadata": {
            "tags": null
          },
          "name": "stderr",
          "output_type": "stream",
          "text": [
            "\r 53%|█████▎    | 79/150 [48:04<43:03, 36.39s/it]"
          ]
        },
        {
          "metadata": {
            "tags": null
          },
          "name": "stdout",
          "output_type": "stream",
          "text": [
            "Training Loss: 0.266 | Training Acc: 91.062% | Testing Loss: 0.543 | Testing Acc:82.260%\n"
          ]
        },
        {
          "metadata": {
            "tags": null
          },
          "name": "stderr",
          "output_type": "stream",
          "text": [
            "\r 53%|█████▎    | 80/150 [48:41<42:28, 36.41s/it]"
          ]
        },
        {
          "metadata": {
            "tags": null
          },
          "name": "stdout",
          "output_type": "stream",
          "text": [
            "Training Loss: 0.272 | Training Acc: 90.808% | Testing Loss: 0.465 | Testing Acc:84.920%\n"
          ]
        },
        {
          "metadata": {
            "tags": null
          },
          "name": "stderr",
          "output_type": "stream",
          "text": [
            "\r 54%|█████▍    | 81/150 [49:17<41:45, 36.31s/it]"
          ]
        },
        {
          "metadata": {
            "tags": null
          },
          "name": "stdout",
          "output_type": "stream",
          "text": [
            "Training Loss: 0.262 | Training Acc: 91.132% | Testing Loss: 0.531 | Testing Acc:83.970%\n"
          ]
        },
        {
          "metadata": {
            "tags": null
          },
          "name": "stderr",
          "output_type": "stream",
          "text": [
            "\r 55%|█████▍    | 82/150 [49:53<41:18, 36.46s/it]"
          ]
        },
        {
          "metadata": {
            "tags": null
          },
          "name": "stdout",
          "output_type": "stream",
          "text": [
            "Training Loss: 0.259 | Training Acc: 91.176% | Testing Loss: 0.725 | Testing Acc:79.050%\n"
          ]
        },
        {
          "metadata": {
            "tags": null
          },
          "name": "stderr",
          "output_type": "stream",
          "text": [
            "\r 55%|█████▌    | 83/150 [50:29<40:29, 36.26s/it]"
          ]
        },
        {
          "metadata": {
            "tags": null
          },
          "name": "stdout",
          "output_type": "stream",
          "text": [
            "Training Loss: 0.264 | Training Acc: 91.086% | Testing Loss: 0.475 | Testing Acc:85.390%\n"
          ]
        },
        {
          "metadata": {
            "tags": null
          },
          "name": "stderr",
          "output_type": "stream",
          "text": [
            "\r 56%|█████▌    | 84/150 [51:06<40:06, 36.46s/it]"
          ]
        },
        {
          "metadata": {
            "tags": null
          },
          "name": "stdout",
          "output_type": "stream",
          "text": [
            "Training Loss: 0.257 | Training Acc: 91.328% | Testing Loss: 0.438 | Testing Acc:86.480%\n"
          ]
        },
        {
          "metadata": {
            "tags": null
          },
          "name": "stderr",
          "output_type": "stream",
          "text": [
            "\r 57%|█████▋    | 85/150 [51:43<39:37, 36.57s/it]"
          ]
        },
        {
          "metadata": {
            "tags": null
          },
          "name": "stdout",
          "output_type": "stream",
          "text": [
            "Training Loss: 0.258 | Training Acc: 91.278% | Testing Loss: 0.541 | Testing Acc:83.920%\n"
          ]
        },
        {
          "metadata": {
            "tags": null
          },
          "name": "stderr",
          "output_type": "stream",
          "text": [
            "\r 57%|█████▋    | 86/150 [52:19<38:55, 36.49s/it]"
          ]
        },
        {
          "metadata": {
            "tags": null
          },
          "name": "stdout",
          "output_type": "stream",
          "text": [
            "Training Loss: 0.248 | Training Acc: 91.606% | Testing Loss: 0.385 | Testing Acc:87.370%\n"
          ]
        },
        {
          "metadata": {
            "tags": null
          },
          "name": "stderr",
          "output_type": "stream",
          "text": [
            "\r 58%|█████▊    | 87/150 [52:55<38:07, 36.32s/it]"
          ]
        },
        {
          "metadata": {
            "tags": null
          },
          "name": "stdout",
          "output_type": "stream",
          "text": [
            "Training Loss: 0.252 | Training Acc: 91.332% | Testing Loss: 0.487 | Testing Acc:85.300%\n"
          ]
        },
        {
          "metadata": {
            "tags": null
          },
          "name": "stderr",
          "output_type": "stream",
          "text": [
            "\r 59%|█████▊    | 88/150 [53:32<37:33, 36.35s/it]"
          ]
        },
        {
          "metadata": {
            "tags": null
          },
          "name": "stdout",
          "output_type": "stream",
          "text": [
            "Training Loss: 0.250 | Training Acc: 91.534% | Testing Loss: 0.447 | Testing Acc:85.740%\n"
          ]
        },
        {
          "metadata": {
            "tags": null
          },
          "name": "stderr",
          "output_type": "stream",
          "text": [
            "\r 59%|█████▉    | 89/150 [54:08<36:56, 36.33s/it]"
          ]
        },
        {
          "metadata": {
            "tags": null
          },
          "name": "stdout",
          "output_type": "stream",
          "text": [
            "Training Loss: 0.246 | Training Acc: 91.644% | Testing Loss: 0.398 | Testing Acc:86.830%\n"
          ]
        },
        {
          "metadata": {
            "tags": null
          },
          "name": "stderr",
          "output_type": "stream",
          "text": [
            "\r 60%|██████    | 90/150 [54:45<36:26, 36.45s/it]"
          ]
        },
        {
          "metadata": {
            "tags": null
          },
          "name": "stdout",
          "output_type": "stream",
          "text": [
            "Training Loss: 0.243 | Training Acc: 91.846% | Testing Loss: 0.456 | Testing Acc:85.370%\n"
          ]
        },
        {
          "metadata": {
            "tags": null
          },
          "name": "stderr",
          "output_type": "stream",
          "text": [
            "\r 61%|██████    | 91/150 [55:20<35:39, 36.26s/it]"
          ]
        },
        {
          "metadata": {
            "tags": null
          },
          "name": "stdout",
          "output_type": "stream",
          "text": [
            "Training Loss: 0.239 | Training Acc: 91.962% | Testing Loss: 0.427 | Testing Acc:85.760%\n"
          ]
        },
        {
          "metadata": {
            "tags": null
          },
          "name": "stderr",
          "output_type": "stream",
          "text": [
            "\r 61%|██████▏   | 92/150 [55:57<35:04, 36.29s/it]"
          ]
        },
        {
          "metadata": {
            "tags": null
          },
          "name": "stdout",
          "output_type": "stream",
          "text": [
            "Training Loss: 0.236 | Training Acc: 91.892% | Testing Loss: 0.695 | Testing Acc:81.010%\n"
          ]
        },
        {
          "output_type": "stream",
          "name": "stderr",
          "text": [
            "\r 62%|██████▏   | 93/150 [56:33<34:18, 36.12s/it]"
          ]
        },
        {
          "output_type": "stream",
          "name": "stdout",
          "text": [
            "Training Loss: 0.238 | Training Acc: 91.940% | Testing Loss: 0.427 | Testing Acc:86.810%\n"
          ]
        },
        {
          "output_type": "stream",
          "name": "stderr",
          "text": [
            "\r 63%|██████▎   | 94/150 [57:08<33:38, 36.04s/it]"
          ]
        },
        {
          "output_type": "stream",
          "name": "stdout",
          "text": [
            "Training Loss: 0.232 | Training Acc: 91.960% | Testing Loss: 0.461 | Testing Acc:85.380%\n"
          ]
        },
        {
          "output_type": "stream",
          "name": "stderr",
          "text": [
            "\r 63%|██████▎   | 95/150 [57:44<32:55, 35.93s/it]"
          ]
        },
        {
          "output_type": "stream",
          "name": "stdout",
          "text": [
            "Training Loss: 0.226 | Training Acc: 92.246% | Testing Loss: 0.363 | Testing Acc:88.240%\n"
          ]
        },
        {
          "output_type": "stream",
          "name": "stderr",
          "text": [
            "\r 64%|██████▍   | 96/150 [58:21<32:31, 36.14s/it]"
          ]
        },
        {
          "output_type": "stream",
          "name": "stdout",
          "text": [
            "Training Loss: 0.229 | Training Acc: 92.100% | Testing Loss: 0.334 | Testing Acc:89.080%\n"
          ]
        },
        {
          "output_type": "stream",
          "name": "stderr",
          "text": [
            "\r 65%|██████▍   | 97/150 [58:57<31:53, 36.10s/it]"
          ]
        },
        {
          "output_type": "stream",
          "name": "stdout",
          "text": [
            "Training Loss: 0.229 | Training Acc: 92.210% | Testing Loss: 0.383 | Testing Acc:87.970%\n"
          ]
        },
        {
          "output_type": "stream",
          "name": "stderr",
          "text": [
            "\r 65%|██████▌   | 98/150 [59:33<31:23, 36.22s/it]"
          ]
        },
        {
          "output_type": "stream",
          "name": "stdout",
          "text": [
            "Training Loss: 0.224 | Training Acc: 92.466% | Testing Loss: 0.427 | Testing Acc:86.590%\n"
          ]
        },
        {
          "output_type": "stream",
          "name": "stderr",
          "text": [
            "\r 66%|██████▌   | 99/150 [1:00:09<30:42, 36.12s/it]"
          ]
        },
        {
          "output_type": "stream",
          "name": "stdout",
          "text": [
            "Training Loss: 0.218 | Training Acc: 92.468% | Testing Loss: 0.410 | Testing Acc:87.140%\n"
          ]
        },
        {
          "output_type": "stream",
          "name": "stderr",
          "text": [
            "\r 67%|██████▋   | 100/150 [1:00:45<30:07, 36.16s/it]"
          ]
        },
        {
          "output_type": "stream",
          "name": "stdout",
          "text": [
            "Training Loss: 0.215 | Training Acc: 92.716% | Testing Loss: 0.448 | Testing Acc:86.540%\n"
          ]
        },
        {
          "output_type": "stream",
          "name": "stderr",
          "text": [
            "\r 67%|██████▋   | 101/150 [1:01:21<29:26, 36.05s/it]"
          ]
        },
        {
          "output_type": "stream",
          "name": "stdout",
          "text": [
            "Training Loss: 0.212 | Training Acc: 92.826% | Testing Loss: 0.490 | Testing Acc:86.060%\n"
          ]
        },
        {
          "output_type": "stream",
          "name": "stderr",
          "text": [
            "\r 68%|██████▊   | 102/150 [1:01:57<28:48, 36.02s/it]"
          ]
        },
        {
          "output_type": "stream",
          "name": "stdout",
          "text": [
            "Training Loss: 0.210 | Training Acc: 92.782% | Testing Loss: 0.411 | Testing Acc:87.020%\n"
          ]
        },
        {
          "output_type": "stream",
          "name": "stderr",
          "text": [
            "\r 69%|██████▊   | 103/150 [1:02:32<28:02, 35.80s/it]"
          ]
        },
        {
          "output_type": "stream",
          "name": "stdout",
          "text": [
            "Training Loss: 0.211 | Training Acc: 92.810% | Testing Loss: 0.424 | Testing Acc:87.100%\n"
          ]
        },
        {
          "output_type": "stream",
          "name": "stderr",
          "text": [
            "\r 69%|██████▉   | 104/150 [1:03:08<27:22, 35.70s/it]"
          ]
        },
        {
          "output_type": "stream",
          "name": "stdout",
          "text": [
            "Training Loss: 0.211 | Training Acc: 92.704% | Testing Loss: 0.395 | Testing Acc:87.640%\n"
          ]
        },
        {
          "output_type": "stream",
          "name": "stderr",
          "text": [
            "\r 70%|███████   | 105/150 [1:03:43<26:40, 35.57s/it]"
          ]
        },
        {
          "output_type": "stream",
          "name": "stdout",
          "text": [
            "Training Loss: 0.201 | Training Acc: 93.100% | Testing Loss: 0.342 | Testing Acc:89.340%\n"
          ]
        },
        {
          "output_type": "stream",
          "name": "stderr",
          "text": [
            "\r 71%|███████   | 106/150 [1:04:19<26:05, 35.59s/it]"
          ]
        },
        {
          "output_type": "stream",
          "name": "stdout",
          "text": [
            "Training Loss: 0.205 | Training Acc: 92.966% | Testing Loss: 0.359 | Testing Acc:88.420%\n"
          ]
        },
        {
          "output_type": "stream",
          "name": "stderr",
          "text": [
            "\r 71%|███████▏  | 107/150 [1:04:54<25:29, 35.56s/it]"
          ]
        },
        {
          "output_type": "stream",
          "name": "stdout",
          "text": [
            "Training Loss: 0.198 | Training Acc: 93.306% | Testing Loss: 0.566 | Testing Acc:83.540%\n"
          ]
        },
        {
          "output_type": "stream",
          "name": "stderr",
          "text": [
            "\r 72%|███████▏  | 108/150 [1:05:30<24:56, 35.63s/it]"
          ]
        },
        {
          "output_type": "stream",
          "name": "stdout",
          "text": [
            "Training Loss: 0.192 | Training Acc: 93.408% | Testing Loss: 0.405 | Testing Acc:87.480%\n"
          ]
        },
        {
          "output_type": "stream",
          "name": "stderr",
          "text": [
            "\r 73%|███████▎  | 109/150 [1:06:05<24:17, 35.55s/it]"
          ]
        },
        {
          "output_type": "stream",
          "name": "stdout",
          "text": [
            "Training Loss: 0.187 | Training Acc: 93.684% | Testing Loss: 0.499 | Testing Acc:85.890%\n"
          ]
        },
        {
          "output_type": "stream",
          "name": "stderr",
          "text": [
            "\r 73%|███████▎  | 110/150 [1:06:41<23:44, 35.61s/it]"
          ]
        },
        {
          "output_type": "stream",
          "name": "stdout",
          "text": [
            "Training Loss: 0.192 | Training Acc: 93.490% | Testing Loss: 0.377 | Testing Acc:88.530%\n"
          ]
        },
        {
          "output_type": "stream",
          "name": "stderr",
          "text": [
            "\r 74%|███████▍  | 111/150 [1:07:17<23:06, 35.55s/it]"
          ]
        },
        {
          "output_type": "stream",
          "name": "stdout",
          "text": [
            "Training Loss: 0.191 | Training Acc: 93.416% | Testing Loss: 0.369 | Testing Acc:88.740%\n"
          ]
        },
        {
          "output_type": "stream",
          "name": "stderr",
          "text": [
            "\r 75%|███████▍  | 112/150 [1:07:52<22:33, 35.61s/it]"
          ]
        },
        {
          "output_type": "stream",
          "name": "stdout",
          "text": [
            "Training Loss: 0.186 | Training Acc: 93.556% | Testing Loss: 0.351 | Testing Acc:89.320%\n"
          ]
        },
        {
          "output_type": "stream",
          "name": "stderr",
          "text": [
            "\r 75%|███████▌  | 113/150 [1:08:28<21:56, 35.58s/it]"
          ]
        },
        {
          "output_type": "stream",
          "name": "stdout",
          "text": [
            "Training Loss: 0.184 | Training Acc: 93.680% | Testing Loss: 0.342 | Testing Acc:89.040%\n"
          ]
        },
        {
          "output_type": "stream",
          "name": "stderr",
          "text": [
            "\r 76%|███████▌  | 114/150 [1:09:04<21:22, 35.62s/it]"
          ]
        },
        {
          "output_type": "stream",
          "name": "stdout",
          "text": [
            "Training Loss: 0.178 | Training Acc: 93.880% | Testing Loss: 0.354 | Testing Acc:89.490%\n"
          ]
        },
        {
          "output_type": "stream",
          "name": "stderr",
          "text": [
            "\r 77%|███████▋  | 115/150 [1:09:39<20:48, 35.66s/it]"
          ]
        },
        {
          "output_type": "stream",
          "name": "stdout",
          "text": [
            "Training Loss: 0.172 | Training Acc: 94.194% | Testing Loss: 0.298 | Testing Acc:90.460%\n"
          ]
        },
        {
          "output_type": "stream",
          "name": "stderr",
          "text": [
            "\r 77%|███████▋  | 116/150 [1:10:15<20:15, 35.76s/it]"
          ]
        },
        {
          "output_type": "stream",
          "name": "stdout",
          "text": [
            "Training Loss: 0.171 | Training Acc: 94.064% | Testing Loss: 0.322 | Testing Acc:90.150%\n"
          ]
        },
        {
          "output_type": "stream",
          "name": "stderr",
          "text": [
            "\r 78%|███████▊  | 117/150 [1:10:51<19:41, 35.80s/it]"
          ]
        },
        {
          "output_type": "stream",
          "name": "stdout",
          "text": [
            "Training Loss: 0.170 | Training Acc: 94.196% | Testing Loss: 0.361 | Testing Acc:89.360%\n"
          ]
        },
        {
          "output_type": "stream",
          "name": "stderr",
          "text": [
            "\r 79%|███████▊  | 118/150 [1:11:27<19:09, 35.91s/it]"
          ]
        },
        {
          "output_type": "stream",
          "name": "stdout",
          "text": [
            "Training Loss: 0.160 | Training Acc: 94.514% | Testing Loss: 0.325 | Testing Acc:89.780%\n"
          ]
        },
        {
          "output_type": "stream",
          "name": "stderr",
          "text": [
            "\r 79%|███████▉  | 119/150 [1:12:03<18:34, 35.96s/it]"
          ]
        },
        {
          "output_type": "stream",
          "name": "stdout",
          "text": [
            "Training Loss: 0.167 | Training Acc: 94.400% | Testing Loss: 0.299 | Testing Acc:90.470%\n"
          ]
        },
        {
          "output_type": "stream",
          "name": "stderr",
          "text": [
            "\r 80%|████████  | 120/150 [1:12:40<18:02, 36.10s/it]"
          ]
        },
        {
          "output_type": "stream",
          "name": "stdout",
          "text": [
            "Training Loss: 0.156 | Training Acc: 94.560% | Testing Loss: 0.357 | Testing Acc:88.960%\n"
          ]
        },
        {
          "output_type": "stream",
          "name": "stderr",
          "text": [
            "\r 81%|████████  | 121/150 [1:13:16<17:26, 36.07s/it]"
          ]
        },
        {
          "output_type": "stream",
          "name": "stdout",
          "text": [
            "Training Loss: 0.152 | Training Acc: 94.886% | Testing Loss: 0.340 | Testing Acc:89.700%\n"
          ]
        },
        {
          "output_type": "stream",
          "name": "stderr",
          "text": [
            "\r 81%|████████▏ | 122/150 [1:13:53<16:55, 36.28s/it]"
          ]
        },
        {
          "output_type": "stream",
          "name": "stdout",
          "text": [
            "Training Loss: 0.152 | Training Acc: 94.774% | Testing Loss: 0.331 | Testing Acc:89.790%\n"
          ]
        },
        {
          "output_type": "stream",
          "name": "stderr",
          "text": [
            "\r 82%|████████▏ | 123/150 [1:14:29<16:16, 36.16s/it]"
          ]
        },
        {
          "output_type": "stream",
          "name": "stdout",
          "text": [
            "Training Loss: 0.154 | Training Acc: 94.642% | Testing Loss: 0.358 | Testing Acc:89.250%\n"
          ]
        },
        {
          "output_type": "stream",
          "name": "stderr",
          "text": [
            "\r 83%|████████▎ | 124/150 [1:15:05<15:42, 36.24s/it]"
          ]
        },
        {
          "output_type": "stream",
          "name": "stdout",
          "text": [
            "Training Loss: 0.148 | Training Acc: 94.906% | Testing Loss: 0.324 | Testing Acc:89.690%\n"
          ]
        },
        {
          "output_type": "stream",
          "name": "stderr",
          "text": [
            "\r 83%|████████▎ | 125/150 [1:15:41<15:01, 36.07s/it]"
          ]
        },
        {
          "output_type": "stream",
          "name": "stdout",
          "text": [
            "Training Loss: 0.141 | Training Acc: 95.230% | Testing Loss: 0.317 | Testing Acc:89.910%\n"
          ]
        },
        {
          "output_type": "stream",
          "name": "stderr",
          "text": [
            "\r 84%|████████▍ | 126/150 [1:16:16<14:24, 36.00s/it]"
          ]
        },
        {
          "output_type": "stream",
          "name": "stdout",
          "text": [
            "Training Loss: 0.145 | Training Acc: 95.012% | Testing Loss: 0.345 | Testing Acc:89.720%\n"
          ]
        },
        {
          "output_type": "stream",
          "name": "stderr",
          "text": [
            "\r 85%|████████▍ | 127/150 [1:16:52<13:46, 35.95s/it]"
          ]
        },
        {
          "output_type": "stream",
          "name": "stdout",
          "text": [
            "Training Loss: 0.135 | Training Acc: 95.470% | Testing Loss: 0.313 | Testing Acc:90.100%\n"
          ]
        },
        {
          "output_type": "stream",
          "name": "stderr",
          "text": [
            "\r 85%|████████▌ | 128/150 [1:17:28<13:07, 35.78s/it]"
          ]
        },
        {
          "output_type": "stream",
          "name": "stdout",
          "text": [
            "Training Loss: 0.133 | Training Acc: 95.542% | Testing Loss: 0.332 | Testing Acc:90.130%\n"
          ]
        },
        {
          "output_type": "stream",
          "name": "stderr",
          "text": [
            "\r 86%|████████▌ | 129/150 [1:18:04<12:32, 35.81s/it]"
          ]
        },
        {
          "output_type": "stream",
          "name": "stdout",
          "text": [
            "Training Loss: 0.132 | Training Acc: 95.534% | Testing Loss: 0.323 | Testing Acc:90.330%\n"
          ]
        },
        {
          "output_type": "stream",
          "name": "stderr",
          "text": [
            "\r 87%|████████▋ | 130/150 [1:18:39<11:54, 35.72s/it]"
          ]
        },
        {
          "output_type": "stream",
          "name": "stdout",
          "text": [
            "Training Loss: 0.130 | Training Acc: 95.490% | Testing Loss: 0.388 | Testing Acc:88.510%\n"
          ]
        },
        {
          "output_type": "stream",
          "name": "stderr",
          "text": [
            "\r 87%|████████▋ | 131/150 [1:19:15<11:21, 35.85s/it]"
          ]
        },
        {
          "output_type": "stream",
          "name": "stdout",
          "text": [
            "Training Loss: 0.123 | Training Acc: 95.774% | Testing Loss: 0.318 | Testing Acc:91.020%\n"
          ]
        },
        {
          "output_type": "stream",
          "name": "stderr",
          "text": [
            "\r 88%|████████▊ | 132/150 [1:19:51<10:44, 35.81s/it]"
          ]
        },
        {
          "output_type": "stream",
          "name": "stdout",
          "text": [
            "Training Loss: 0.123 | Training Acc: 95.844% | Testing Loss: 0.276 | Testing Acc:91.310%\n"
          ]
        },
        {
          "output_type": "stream",
          "name": "stderr",
          "text": [
            "\r 89%|████████▊ | 133/150 [1:20:27<10:12, 36.00s/it]"
          ]
        },
        {
          "output_type": "stream",
          "name": "stdout",
          "text": [
            "Training Loss: 0.117 | Training Acc: 96.108% | Testing Loss: 0.308 | Testing Acc:90.980%\n"
          ]
        },
        {
          "output_type": "stream",
          "name": "stderr",
          "text": [
            "\r 89%|████████▉ | 134/150 [1:21:03<09:36, 36.02s/it]"
          ]
        },
        {
          "output_type": "stream",
          "name": "stdout",
          "text": [
            "Training Loss: 0.110 | Training Acc: 96.226% | Testing Loss: 0.295 | Testing Acc:91.060%\n"
          ]
        },
        {
          "output_type": "stream",
          "name": "stderr",
          "text": [
            "\r 90%|█████████ | 135/150 [1:21:40<09:01, 36.11s/it]"
          ]
        },
        {
          "output_type": "stream",
          "name": "stdout",
          "text": [
            "Training Loss: 0.110 | Training Acc: 96.256% | Testing Loss: 0.336 | Testing Acc:90.080%\n"
          ]
        },
        {
          "output_type": "stream",
          "name": "stderr",
          "text": [
            "\r 91%|█████████ | 136/150 [1:22:16<08:24, 36.02s/it]"
          ]
        },
        {
          "output_type": "stream",
          "name": "stdout",
          "text": [
            "Training Loss: 0.102 | Training Acc: 96.564% | Testing Loss: 0.368 | Testing Acc:89.290%\n"
          ]
        },
        {
          "output_type": "stream",
          "name": "stderr",
          "text": [
            "\r 91%|█████████▏| 137/150 [1:22:52<07:48, 36.00s/it]"
          ]
        },
        {
          "output_type": "stream",
          "name": "stdout",
          "text": [
            "Training Loss: 0.110 | Training Acc: 96.312% | Testing Loss: 0.355 | Testing Acc:89.350%\n"
          ]
        },
        {
          "output_type": "stream",
          "name": "stderr",
          "text": [
            "\r 92%|█████████▏| 138/150 [1:23:28<07:11, 35.99s/it]"
          ]
        },
        {
          "output_type": "stream",
          "name": "stdout",
          "text": [
            "Training Loss: 0.102 | Training Acc: 96.556% | Testing Loss: 0.297 | Testing Acc:91.060%\n"
          ]
        },
        {
          "output_type": "stream",
          "name": "stderr",
          "text": [
            "\r 93%|█████████▎| 139/150 [1:24:04<06:36, 36.04s/it]"
          ]
        },
        {
          "output_type": "stream",
          "name": "stdout",
          "text": [
            "Training Loss: 0.097 | Training Acc: 96.804% | Testing Loss: 0.317 | Testing Acc:90.620%\n"
          ]
        },
        {
          "output_type": "stream",
          "name": "stderr",
          "text": [
            "\r 93%|█████████▎| 140/150 [1:24:39<05:58, 35.89s/it]"
          ]
        },
        {
          "output_type": "stream",
          "name": "stdout",
          "text": [
            "Training Loss: 0.094 | Training Acc: 96.864% | Testing Loss: 0.358 | Testing Acc:90.200%\n"
          ]
        },
        {
          "output_type": "stream",
          "name": "stderr",
          "text": [
            "\r 94%|█████████▍| 141/150 [1:25:15<05:22, 35.81s/it]"
          ]
        },
        {
          "output_type": "stream",
          "name": "stdout",
          "text": [
            "Training Loss: 0.090 | Training Acc: 96.912% | Testing Loss: 0.298 | Testing Acc:91.050%\n"
          ]
        },
        {
          "output_type": "stream",
          "name": "stderr",
          "text": [
            "\r 95%|█████████▍| 142/150 [1:25:50<04:45, 35.71s/it]"
          ]
        },
        {
          "output_type": "stream",
          "name": "stdout",
          "text": [
            "Training Loss: 0.087 | Training Acc: 97.054% | Testing Loss: 0.286 | Testing Acc:91.560%\n"
          ]
        },
        {
          "output_type": "stream",
          "name": "stderr",
          "text": [
            "\r 95%|█████████▌| 143/150 [1:26:26<04:09, 35.65s/it]"
          ]
        },
        {
          "output_type": "stream",
          "name": "stdout",
          "text": [
            "Training Loss: 0.082 | Training Acc: 97.334% | Testing Loss: 0.347 | Testing Acc:90.340%\n"
          ]
        },
        {
          "output_type": "stream",
          "name": "stderr",
          "text": [
            "\r 96%|█████████▌| 144/150 [1:27:01<03:33, 35.54s/it]"
          ]
        },
        {
          "output_type": "stream",
          "name": "stdout",
          "text": [
            "Training Loss: 0.081 | Training Acc: 97.302% | Testing Loss: 0.291 | Testing Acc:91.350%\n"
          ]
        },
        {
          "output_type": "stream",
          "name": "stderr",
          "text": [
            "\r 97%|█████████▋| 145/150 [1:27:37<02:58, 35.64s/it]"
          ]
        },
        {
          "output_type": "stream",
          "name": "stdout",
          "text": [
            "Training Loss: 0.072 | Training Acc: 97.596% | Testing Loss: 0.258 | Testing Acc:92.400%\n"
          ]
        },
        {
          "output_type": "stream",
          "name": "stderr",
          "text": [
            "\r 97%|█████████▋| 146/150 [1:28:12<02:22, 35.60s/it]"
          ]
        },
        {
          "output_type": "stream",
          "name": "stdout",
          "text": [
            "Training Loss: 0.079 | Training Acc: 97.322% | Testing Loss: 0.307 | Testing Acc:91.330%\n"
          ]
        },
        {
          "output_type": "stream",
          "name": "stderr",
          "text": [
            "\r 98%|█████████▊| 147/150 [1:28:48<01:46, 35.59s/it]"
          ]
        },
        {
          "output_type": "stream",
          "name": "stdout",
          "text": [
            "Training Loss: 0.070 | Training Acc: 97.724% | Testing Loss: 0.268 | Testing Acc:92.050%\n"
          ]
        },
        {
          "output_type": "stream",
          "name": "stderr",
          "text": [
            "\r 99%|█████████▊| 148/150 [1:29:23<01:11, 35.54s/it]"
          ]
        },
        {
          "output_type": "stream",
          "name": "stdout",
          "text": [
            "Training Loss: 0.063 | Training Acc: 97.910% | Testing Loss: 0.285 | Testing Acc:91.840%\n"
          ]
        },
        {
          "output_type": "stream",
          "name": "stderr",
          "text": [
            "\r 99%|█████████▉| 149/150 [1:29:59<00:35, 35.54s/it]"
          ]
        },
        {
          "output_type": "stream",
          "name": "stdout",
          "text": [
            "Training Loss: 0.062 | Training Acc: 98.030% | Testing Loss: 0.295 | Testing Acc:91.870%\n"
          ]
        },
        {
          "output_type": "stream",
          "name": "stderr",
          "text": [
            "100%|██████████| 150/150 [1:30:35<00:00, 36.24s/it]"
          ]
        },
        {
          "output_type": "stream",
          "name": "stdout",
          "text": [
            "Training Loss: 0.053 | Training Acc: 98.328% | Testing Loss: 0.274 | Testing Acc:92.300%\n"
          ]
        },
        {
          "output_type": "stream",
          "name": "stderr",
          "text": [
            "\n"
          ]
        }
      ],
      "source": [
        "## First train for 100 \n",
        "\n",
        "for epoch in tqdm(range(EPOCHS)):\n",
        "  \n",
        "  start_time = time.time()\n",
        "\n",
        "  train_loss, train_acc = train(epoch)\n",
        "  test_loss, test_acc = test(epoch)\n",
        "\n",
        "  scheduler.step()\n",
        "\n",
        "  history[\"accuracy\"].append(train_acc)\n",
        "  history[\"test_accuracy\"].append(test_acc)\n",
        "  history[\"loss\"].append(train_loss)\n",
        "  history[\"test_loss\"].append(test_loss)\n",
        "\n",
        "\n",
        "  end_time = time.time()\n",
        "\n",
        "  epoch_mins, epoch_secs = epoch_time(start_time, end_time)\n",
        "\n",
        "  if test_acc > best_testing_accuracy:\n",
        "    best_testing_accuracy = test_acc\n",
        "    torch.save(net.state_dict(), 'model.pt')\n",
        "\n",
        "  \n",
        "  print('Training Loss: %.3f | Training Acc: %.3f%% | Testing Loss: %.3f | Testing Acc:%.3f%%'\n",
        "                  % (train_loss, train_acc, test_loss, test_acc))"
      ]
    },
    {
      "cell_type": "markdown",
      "source": [
        "## Load the model"
      ],
      "metadata": {
        "id": "SnCigVMhBz6r"
      }
    },
    {
      "cell_type": "code",
      "source": [
        "net.load_state_dict(torch.load('model.pt'))"
      ],
      "metadata": {
        "id": "CF9Xstav4DvP",
        "colab": {
          "base_uri": "https://localhost:8080/"
        },
        "outputId": "73db352c-a842-40ef-b1b0-2d5ede25b052"
      },
      "execution_count": null,
      "outputs": [
        {
          "output_type": "execute_result",
          "data": {
            "text/plain": [
              "<All keys matched successfully>"
            ]
          },
          "metadata": {},
          "execution_count": 43
        }
      ]
    },
    {
      "cell_type": "markdown",
      "source": [
        "## Evalute the model "
      ],
      "metadata": {
        "id": "FznFHYGAB79Q"
      }
    },
    {
      "cell_type": "code",
      "source": [
        "test_loss, test_acc = test(net)\n",
        "\n",
        "print(f'Test Loss: {test_loss:.3f} | Test Acc: {test_acc:.2f}%')"
      ],
      "metadata": {
        "id": "TiS9LbgdB7gF",
        "colab": {
          "base_uri": "https://localhost:8080/"
        },
        "outputId": "c61bb322-5bcf-4fd6-d84d-76f5f5e66edd"
      },
      "execution_count": null,
      "outputs": [
        {
          "output_type": "stream",
          "name": "stdout",
          "text": [
            "Test Loss: 0.258 | Test Acc: 92.40%\n"
          ]
        }
      ]
    },
    {
      "cell_type": "code",
      "source": [
        "f, (ax0, ax1) = plt.subplots(1, 2, figsize=(10, 5))\n",
        "x_axis = range(EPOCHS)\n",
        "ax0.plot(x_axis, history['loss'], label='Train Loss')\n",
        "ax0.plot(x_axis, history['test_loss'], label='Test Loss')\n",
        "ax1.plot(x_axis, history['accuracy'], label='Train Accuracy')\n",
        "ax1.plot(x_axis, history['test_accuracy'], label='Test Accuracy')\n",
        "ax0.grid(True)\n",
        "ax1.grid(True)\n",
        "ax0.legend()\n",
        "ax1.legend()\n",
        "f.savefig(\"./trainTestCurve.png\")"
      ],
      "metadata": {
        "id": "M4Q0Ajz9CKrc",
        "colab": {
          "base_uri": "https://localhost:8080/",
          "height": 343
        },
        "outputId": "bac8067c-04e2-46aa-860e-a8846a4c6a59"
      },
      "execution_count": null,
      "outputs": [
        {
          "output_type": "display_data",
          "data": {
            "text/plain": [
              "<Figure size 1000x500 with 2 Axes>"
            ],
            "image/png": "[encoded data removed]"
          },
          "metadata": {}
        }
      ]
    },
    {
      "cell_type": "markdown",
      "source": [
        "## Visualize the Predictions"
      ],
      "metadata": {
        "id": "gazW7L-2CFZa"
      }
    },
    {
      "cell_type": "code",
      "source": [
        "dataiter = iter(testloader)\n",
        "images, labels = next(dataiter)\n",
        "\n",
        "# print images\n",
        "imshow(torchvision.utils.make_grid(images))\n",
        "print('GroundTruth: ', ' '.join(f'{classes[labels[j]]:5s}' for j in range(4)))"
      ],
      "metadata": {
        "id": "eMVlkQp2B_u8",
        "colab": {
          "base_uri": "https://localhost:8080/",
          "height": 491
        },
        "outputId": "89be325e-91a2-40a0-de99-9145c9eaa503"
      },
      "execution_count": null,
      "outputs": [
        {
          "output_type": "stream",
          "name": "stderr",
          "text": [
            "WARNING:matplotlib.image:Clipping input data to the valid range for imshow with RGB data ([0..1] for floats or [0..255] for integers).\n"
          ]
        },
        {
          "output_type": "display_data",
          "data": {
            "text/plain": [
              "<Figure size 640x480 with 1 Axes>"
            ],
            "image/png": "[encoded data removed]"
          },
          "metadata": {}
        },
        {
          "output_type": "stream",
          "name": "stdout",
          "text": [
            "GroundTruth:  cat   ship  ship  plane\n"
          ]
        }
      ]
    },
    {
      "cell_type": "markdown",
      "source": [
        "## Plot Confusion Matrix"
      ],
      "metadata": {
        "id": "zJOU0p9UFHIb"
      }
    },
    {
      "cell_type": "code",
      "source": [
        "def get_predictions(model, iterator, device):\n",
        "  ## Set model to evaluate mode \n",
        "\n",
        "  model.eval()\n",
        "  \n",
        "  ## Labels and probability lists \n",
        "\n",
        "  labels = []\n",
        "  probs = []\n",
        "  \n",
        "  with torch.no_grad():\n",
        "    for (x,y) in iterator:\n",
        "      x = x.to(device)\n",
        "      y = y.to(device)\n",
        "      y_pred = model(x)\n",
        "      y_prob = F.softmax(y_pred, dim = -1)\n",
        "      top_pred = y_prob.argmax(1, keepdim = True)\n",
        "      labels.append(y.cpu())\n",
        "      probs.append(y_prob.cpu())\n",
        "  labels = torch.cat(labels, dim = 0)\n",
        "  probs = torch.cat(probs, dim = 0)\n",
        "  return labels, probs"
      ],
      "metadata": {
        "id": "A6IxHh9XFGc8"
      },
      "execution_count": null,
      "outputs": []
    },
    {
      "cell_type": "code",
      "source": [
        "labels, probs = get_predictions(net, testloader, device)\n",
        "pred_labels = torch.argmax(probs, 1)"
      ],
      "metadata": {
        "id": "vTNyE7UmCHfZ"
      },
      "execution_count": null,
      "outputs": []
    },
    {
      "cell_type": "code",
      "source": [
        "def plot_confusion_matrix(labels, pred_labels, classes):\n",
        "  fig = plt.figure(figsize = (10, 10));\n",
        "  ax = fig.add_subplot(1, 1, 1);\n",
        "  cm = confusion_matrix(labels, pred_labels);\n",
        "  cm = ConfusionMatrixDisplay(cm, display_labels = classes);\n",
        "  cm.plot(values_format = 'd', cmap = 'Blues', ax = ax)\n",
        "  plt.xticks(rotation = 20)"
      ],
      "metadata": {
        "id": "XXgkUjEZHgC_"
      },
      "execution_count": null,
      "outputs": []
    },
    {
      "cell_type": "code",
      "source": [
        "plot_confusion_matrix(labels, pred_labels, classes)"
      ],
      "metadata": {
        "id": "jIPiNAscHhP-",
        "colab": {
          "base_uri": "https://localhost:8080/",
          "height": 628
        },
        "outputId": "473787b3-619f-4fc1-e850-4fb07d78265d"
      },
      "execution_count": null,
      "outputs": [
        {
          "output_type": "display_data",
          "data": {
            "text/plain": [
              "<Figure size 1000x1000 with 2 Axes>"
            ],
            "image/png": "[encoded data removed]"
          },
          "metadata": {}
        }
      ]
    },
    {
      "cell_type": "code",
      "source": [],
      "metadata": {
        "id": "gLMsXYgNWp_v"
      },
      "execution_count": null,
      "outputs": []
    }
  ],
  "metadata": {
    "accelerator": "GPU",
    "colab": {
      "provenance": []
    },
    "gpuClass": "standard",
    "kernelspec": {
      "display_name": "Python 3",
      "name": "python3"
    },
    "language_info": {
      "name": "python"
    }
  },
  "nbformat": 4,
  "nbformat_minor": 0
}